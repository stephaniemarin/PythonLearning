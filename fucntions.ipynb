{
 "cells": [
  {
   "cell_type": "markdown",
   "id": "354f02c9-59e6-4507-8a82-a0c2f99b44fa",
   "metadata": {},
   "source": [
    "Functions < -------------> > > > "
   ]
  },
  {
   "cell_type": "code",
   "execution_count": 1,
   "id": "e388fd18-15ae-496c-8ee9-1c826fffd3c4",
   "metadata": {},
   "outputs": [
    {
     "data": {
      "text/plain": [
       "46"
      ]
     },
     "execution_count": 1,
     "metadata": {},
     "output_type": "execute_result"
    }
   ],
   "source": [
    "def Math(a):\n",
    "    a = a+23\n",
    "    return a\n",
    "Math(23)"
   ]
  },
  {
   "cell_type": "code",
   "execution_count": 3,
   "id": "73d987ff-5a09-4d9b-9c98-cf5ec28d538b",
   "metadata": {},
   "outputs": [
    {
     "data": {
      "text/plain": [
       "'Tomato Sauce'"
      ]
     },
     "execution_count": 3,
     "metadata": {},
     "output_type": "execute_result"
    }
   ],
   "source": [
    "def stringAddition(a,b):\n",
    "    c = a + b\n",
    "    return c\n",
    "\n",
    "stringAddition(\"Tomato \", \"Sauce\")\n",
    "    "
   ]
  },
  {
   "cell_type": "code",
   "execution_count": 7,
   "id": "5be8f089-a9bd-4058-a7c7-bdbeb22a7c7a",
   "metadata": {},
   "outputs": [
    {
     "data": {
      "text/plain": [
       "' Jordan is the best! Jordan is the best! Jordan is the best!'"
      ]
     },
     "execution_count": 7,
     "metadata": {},
     "output_type": "execute_result"
    }
   ],
   "source": [
    "def stringMulti(a,b):        #you can multiply ONLY integers with strings, \n",
    "    c= a*b                   #not parameters of string, but fail once code is recycled\n",
    "    return c\n",
    "stringMulti(3 , \" Jordan is the best!\")"
   ]
  },
  {
   "cell_type": "code",
   "execution_count": 14,
   "id": "145966ae-a030-4ac8-84e3-923f32d67637",
   "metadata": {},
   "outputs": [
    {
     "name": "stdout",
     "output_type": "stream",
     "text": [
      "0 9\n",
      "1 3\n",
      "2 4\n",
      "3 3\n"
     ]
    }
   ],
   "source": [
    "index = 0\n",
    "values = [9 ,3, 4,3]\n",
    "\n",
    "for value in values:\n",
    "     print(index, value)\n",
    "     index = index + 1"
   ]
  },
  {
   "cell_type": "code",
   "execution_count": 15,
   "id": "a3ec0e65-294f-4ed7-9e2f-fa8648d4b109",
   "metadata": {},
   "outputs": [
    {
     "name": "stdout",
     "output_type": "stream",
     "text": [
      "0 is the first number in list  3\n",
      "1 is the first number in list  1\n",
      "2 is the first number in list  9\n",
      "3 is the first number in list  4\n"
     ]
    }
   ],
   "source": [
    "import math\n",
    "def printStuff(stuff):\n",
    "    for i,s in enumerate(stuff):\n",
    "        print(i, \"is the first number in list \", s)\n",
    "\n",
    "numbersList = [3, 1, 9, 4]\n",
    "printStuff(numbersList)"
   ]
  },
  {
   "cell_type": "code",
   "execution_count": 16,
   "id": "d207e5bf-11cf-41e7-9b1c-8a390eb8fa34",
   "metadata": {},
   "outputs": [],
   "source": [
    "def ArtistsNames(*names):\n",
    "    for i, name in enumerate(names):\n",
    "        print(i, name)\n",
    "        "
   ]
  },
  {
   "cell_type": "code",
   "execution_count": 17,
   "id": "d5778a81-1286-4f3e-8d2c-4dcb03ff3a0b",
   "metadata": {},
   "outputs": [
    {
     "name": "stdout",
     "output_type": "stream",
     "text": [
      "0 Michael Jackson\n",
      "1 AC/DC\n"
     ]
    }
   ],
   "source": [
    "ArtistsNames(\"Michael Jackson\", \"AC/DC\")"
   ]
  },
  {
   "cell_type": "markdown",
   "id": "8dd13dec-dc4d-4be6-a88a-ca8ae94f86ce",
   "metadata": {},
   "source": [
    "VARIABLES ASSIGNED OUTSIDE THE FUNCTION ARE GLOBAL AND PASSED AS ARGUMENT"
   ]
  },
  {
   "cell_type": "code",
   "execution_count": 29,
   "id": "cf34bceb-27c3-4b24-9126-2a4c04c22efa",
   "metadata": {},
   "outputs": [
    {
     "name": "stdout",
     "output_type": "stream",
     "text": [
      "0 is the 1 st. name in the list for:  Michael Jackson\n",
      "1 is the 2 nd. name in the list for:  Taylor Swift\n",
      "2 is the 3 rd. name in the list for:  Jordan Peterson\n",
      "3 is the 4 th. name in the list for:  Michael Jordan\n"
     ]
    }
   ],
   "source": [
    "def multipleNames():\n",
    "    global multiN\n",
    "    multiN = [\"Michael Jackson\", \"Taylor Swift\", \"Jordan Peterson\", \"Michael Jordan\"]\n",
    "    for i, N in enumerate(multiN):\n",
    "        if (i+1 == 1):\n",
    "            print(i, \"is the\", i+1, \"st. name in the list for: \", N)\n",
    "        elif (i+1 == 2):\n",
    "             print(i, \"is the\", i+1, \"nd. name in the list for: \", N)\n",
    "        elif (i+1 == 3):\n",
    "             print(i, \"is the\", i+1, \"rd. name in the list for: \", N)\n",
    "        else:\n",
    "             print(i, \"is the\", i+1, \"th. name in the list for: \", N)\n",
    "        \n",
    "multipleNames()"
   ]
  },
  {
   "cell_type": "code",
   "execution_count": null,
   "id": "55aa60f8-566f-4b0a-a515-bdddd82cfdbf",
   "metadata": {},
   "outputs": [],
   "source": []
  }
 ],
 "metadata": {
  "kernelspec": {
   "display_name": "Python",
   "language": "python",
   "name": "conda-env-python-py"
  },
  "language_info": {
   "codemirror_mode": {
    "name": "ipython",
    "version": 3
   },
   "file_extension": ".py",
   "mimetype": "text/x-python",
   "name": "python",
   "nbconvert_exporter": "python",
   "pygments_lexer": "ipython3",
   "version": "3.6.13"
  }
 },
 "nbformat": 4,
 "nbformat_minor": 5
}
