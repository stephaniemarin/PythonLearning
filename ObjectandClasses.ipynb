{
 "cells": [
  {
   "cell_type": "markdown",
   "id": "f05a75c7-67d1-4cf2-b7b9-28180c66ed0f",
   "metadata": {},
   "source": [
    "OBJECTS: every object has:\n",
    "       * a type\n",
    "       * an internal data representation (a blueprint)\n",
    "       * a set of procedures for interacting with the object(methos)\n",
    "    an object is an instance of a particular type. "
   ]
  },
  {
   "cell_type": "code",
   "execution_count": 1,
   "id": "b21f6f88-14e0-4595-94b0-3f18aab5f330",
   "metadata": {},
   "outputs": [],
   "source": [
    "class Circle(object):\n",
    "    def __init__(self, radius, color):\n",
    "        self.radius = radius;\n",
    "        self.color = color;\n",
    "        \n",
    "    def add_radius(self, r):\n",
    "        self.radius = self.radius+r\n",
    "        #return (self.radius)\n",
    "\n"
   ]
  },
  {
   "cell_type": "code",
   "execution_count": 2,
   "id": "87c3084d-7a06-4658-b9ac-8894f066e1b3",
   "metadata": {},
   "outputs": [
    {
     "data": {
      "text/plain": [
       "'red'"
      ]
     },
     "execution_count": 2,
     "metadata": {},
     "output_type": "execute_result"
    }
   ],
   "source": [
    "C1=Circle(2,'red')\n",
    "C1.color"
   ]
  },
  {
   "cell_type": "code",
   "execution_count": null,
   "id": "d8c715d8-a333-47e9-bb9b-47c0dcc43d59",
   "metadata": {},
   "outputs": [],
   "source": []
  },
  {
   "cell_type": "code",
   "execution_count": 3,
   "id": "48dd96cd-90be-498f-a625-1abb238d8615",
   "metadata": {},
   "outputs": [],
   "source": [
    "C1.add_radius(5)"
   ]
  },
  {
   "cell_type": "code",
   "execution_count": 4,
   "id": "b84cec01-3b69-49f1-a54e-de77d3b4e258",
   "metadata": {},
   "outputs": [
    {
     "data": {
      "text/plain": [
       "<__main__.Circle at 0x7fd3c4547fd0>"
      ]
     },
     "execution_count": 4,
     "metadata": {},
     "output_type": "execute_result"
    }
   ],
   "source": [
    "C1"
   ]
  },
  {
   "cell_type": "code",
   "execution_count": null,
   "id": "5e3977fd-f119-42a4-991b-cb7c8c56020f",
   "metadata": {},
   "outputs": [],
   "source": [
    "def "
   ]
  }
 ],
 "metadata": {
  "kernelspec": {
   "display_name": "Python",
   "language": "python",
   "name": "conda-env-python-py"
  },
  "language_info": {
   "codemirror_mode": {
    "name": "ipython",
    "version": 3
   },
   "file_extension": ".py",
   "mimetype": "text/x-python",
   "name": "python",
   "nbconvert_exporter": "python",
   "pygments_lexer": "ipython3",
   "version": "3.6.13"
  }
 },
 "nbformat": 4,
 "nbformat_minor": 5
}
