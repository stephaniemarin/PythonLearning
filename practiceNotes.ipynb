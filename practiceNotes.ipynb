{
 "cells": [
  {
   "cell_type": "code",
   "execution_count": 1,
   "id": "011127a9-e470-4312-97eb-28bd43075c73",
   "metadata": {},
   "outputs": [
    {
     "data": {
      "text/plain": [
       "True"
      ]
     },
     "execution_count": 1,
     "metadata": {},
     "output_type": "execute_result"
    }
   ],
   "source": [
    "int(1.1)\n",
    "bool(1)"
   ]
  },
  {
   "cell_type": "markdown",
   "id": "65666592-0bc1-4d44-9e9b-f289b52db28b",
   "metadata": {},
   "source": [
    "Python Basics: \n"
   ]
  },
  {
   "cell_type": "code",
   "execution_count": 2,
   "id": "200268bb-d5d1-4445-aa65-1d23df418f97",
   "metadata": {},
   "outputs": [
    {
     "name": "stdin",
     "output_type": "stream",
     "text": [
      "first 1\n"
     ]
    }
   ],
   "source": [
    "first= float(input(\"first\"))"
   ]
  },
  {
   "cell_type": "code",
   "execution_count": 3,
   "id": "26405c2f-ca2a-4068-a97a-25cdd35a3048",
   "metadata": {},
   "outputs": [
    {
     "name": "stdin",
     "output_type": "stream",
     "text": [
      "second 2\n"
     ]
    }
   ],
   "source": [
    "second = float(input(\"second\"))"
   ]
  },
  {
   "cell_type": "code",
   "execution_count": 4,
   "id": "dad32183-808d-4ae4-bd9d-d0bf19852fab",
   "metadata": {},
   "outputs": [],
   "source": [
    "sum = first + second"
   ]
  },
  {
   "cell_type": "code",
   "execution_count": 5,
   "id": "6b175f79-898e-4a66-b2fd-f84951b98929",
   "metadata": {},
   "outputs": [
    {
     "name": "stdout",
     "output_type": "stream",
     "text": [
      "3.0\n"
     ]
    }
   ],
   "source": [
    "print(sum)"
   ]
  },
  {
   "cell_type": "code",
   "execution_count": 6,
   "id": "ecb94a8d-579a-4d72-9e97-235412c944b5",
   "metadata": {},
   "outputs": [
    {
     "name": "stdout",
     "output_type": "stream",
     "text": [
      "PYTHON FOR BEGINNERS\n"
     ]
    }
   ],
   "source": [
    "course = 'Python for beginners'\n",
    "print(course.upper())"
   ]
  },
  {
   "cell_type": "code",
   "execution_count": 7,
   "id": "8b7657bc-5616-4779-8986-0618d1460317",
   "metadata": {},
   "outputs": [
    {
     "name": "stdout",
     "output_type": "stream",
     "text": [
      "python for beginners\n"
     ]
    }
   ],
   "source": [
    "print(course.lower())"
   ]
  },
  {
   "cell_type": "code",
   "execution_count": 8,
   "id": "5ae9f901-e081-4ebe-9fb7-a6754caeab30",
   "metadata": {},
   "outputs": [
    {
     "name": "stdout",
     "output_type": "stream",
     "text": [
      "1\n"
     ]
    }
   ],
   "source": [
    "print(course.find('y'))"
   ]
  },
  {
   "cell_type": "code",
   "execution_count": 9,
   "id": "45ea76cb-823e-4530-af7f-f2868b511600",
   "metadata": {},
   "outputs": [
    {
     "name": "stdout",
     "output_type": "stream",
     "text": [
      "7\n"
     ]
    }
   ],
   "source": [
    "print(course.find('for')) # print the index of 'for' "
   ]
  },
  {
   "cell_type": "code",
   "execution_count": 10,
   "id": "897b8571-4bcb-4874-8503-71fa4d187df0",
   "metadata": {},
   "outputs": [],
   "source": [
    "# print(course('Y')) ERROR - Caps sensitive"
   ]
  },
  {
   "cell_type": "code",
   "execution_count": 11,
   "id": "d7e108cb-c4f7-461d-8bcc-35fe5a5ceb38",
   "metadata": {},
   "outputs": [
    {
     "name": "stdout",
     "output_type": "stream",
     "text": [
      "True\n"
     ]
    }
   ],
   "source": [
    "print('Python' in course)"
   ]
  },
  {
   "cell_type": "markdown",
   "id": "efb1f9f1-a31e-4699-bbe2-b565caf20130",
   "metadata": {},
   "source": [
    "Arithmetic Operators:"
   ]
  },
  {
   "cell_type": "code",
   "execution_count": 12,
   "id": "94cc697a-1312-4f19-ad7b-e5346f8af194",
   "metadata": {},
   "outputs": [
    {
     "name": "stdout",
     "output_type": "stream",
     "text": [
      "3.3333333333333335\n"
     ]
    }
   ],
   "source": [
    "print(10/3) #prints float "
   ]
  },
  {
   "cell_type": "code",
   "execution_count": 13,
   "id": "f5f61c39-b5f3-4cb1-9c51-c356d9bc7d80",
   "metadata": {},
   "outputs": [
    {
     "name": "stdout",
     "output_type": "stream",
     "text": [
      "3\n"
     ]
    }
   ],
   "source": [
    "print(10//3)  #prints integer"
   ]
  },
  {
   "cell_type": "code",
   "execution_count": 14,
   "id": "f0087444-cca3-4d8b-ab8a-c25750154d02",
   "metadata": {},
   "outputs": [],
   "source": [
    "x=10\n",
    "x += 3 #or x = x+3\n",
    "x = 10 + 3 * 2 # 16\n"
   ]
  },
  {
   "cell_type": "code",
   "execution_count": 15,
   "id": "fab7db26-e234-48ac-b1fe-d246161611ba",
   "metadata": {},
   "outputs": [
    {
     "name": "stdout",
     "output_type": "stream",
     "text": [
      "True\n"
     ]
    }
   ],
   "source": [
    "price = 25\n",
    "print(price>10 and price <30)  # true ((price >10) && (price <30)"
   ]
  },
  {
   "cell_type": "code",
   "execution_count": 16,
   "id": "10ff68e4-61e8-45b4-892f-2690d66f4749",
   "metadata": {},
   "outputs": [
    {
     "name": "stdout",
     "output_type": "stream",
     "text": [
      "True\n"
     ]
    }
   ],
   "source": [
    "print(not price >26)  # true since not is reverting the false to true "
   ]
  },
  {
   "cell_type": "code",
   "execution_count": 17,
   "id": "a0cc4116-cbb6-460b-b2b7-7ae739383d33",
   "metadata": {},
   "outputs": [],
   "source": [
    "#and  (both)\n",
    "#or  (at least one)\n",
    "#not (inverses any value given)"
   ]
  },
  {
   "cell_type": "markdown",
   "id": "60f1efb9-a52b-45b7-8659-d3bfd114cda6",
   "metadata": {},
   "source": [
    "if Statements: "
   ]
  },
  {
   "cell_type": "code",
   "execution_count": 18,
   "id": "dee0c04d-b5ca-4491-853e-d9bc4501a6c7",
   "metadata": {},
   "outputs": [
    {
     "name": "stdout",
     "output_type": "stream",
     "text": [
      "is a little bit cold\n",
      "Done\n"
     ]
    }
   ],
   "source": [
    "temperature = 25  #if condition : character is indented for next line. \n",
    "if temperature >30:      #the code is excecuted if condition is true, otherwise is false. \n",
    "    print(\"It's a hot day\")\n",
    "    \n",
    "elif temperature <20:    #else if (20,30])\n",
    "    print(\"Cooler day today\")\n",
    "elif temperature > 10:   #(10,20])\n",
    "    print(\"is a little bit cold\")\n",
    "else:\n",
    "    print(\"it's cold\")\n",
    "print(\"Done\")"
   ]
  },
  {
   "cell_type": "code",
   "execution_count": 19,
   "id": "c47a2ebc-967b-46f1-b8ff-32c45c36e7ae",
   "metadata": {},
   "outputs": [
    {
     "name": "stdin",
     "output_type": "stream",
     "text": [
      "weight: 23\n",
      "(K)g or (L)bs:  l\n"
     ]
    },
    {
     "name": "stdout",
     "output_type": "stream",
     "text": [
      "Weight in Kgs 10.35\n"
     ]
    }
   ],
   "source": [
    "weight = int(input(\"weight:\"))\n",
    "unit = input(\"(K)g or (L)bs: \")\n",
    "if unit.upper()==\"K\":\n",
    "    converted = weight/0.45\n",
    "    print(\"Weight in Lbs \" + str(converted))\n",
    "else:\n",
    "    converted = weight*0.45\n",
    "    print(\"Weight in Kgs \" + str(converted))\n"
   ]
  },
  {
   "cell_type": "markdown",
   "id": "1ec9dc89-eb77-4df4-a4c4-a747845a7024",
   "metadata": {},
   "source": [
    "While Loops  to repeat a pile of code until the condition is false"
   ]
  },
  {
   "cell_type": "code",
   "execution_count": 20,
   "id": "9acab3e2-f935-4456-bbea-84cf3861d236",
   "metadata": {
    "tags": []
   },
   "outputs": [
    {
     "name": "stdout",
     "output_type": "stream",
     "text": [
      "*\n",
      "**\n",
      "***\n",
      "****\n",
      "*****\n",
      "******\n",
      "*******\n",
      "********\n",
      "*********\n",
      "**********\n"
     ]
    }
   ],
   "source": [
    "i = 1\n",
    "while i <= 10:\n",
    "    print(i * '*')\n",
    "    i= i+1"
   ]
  },
  {
   "cell_type": "markdown",
   "id": "d7e592cd-033d-4778-9281-30eabeb5f892",
   "metadata": {},
   "source": [
    "Lists OR Arrays"
   ]
  },
  {
   "cell_type": "code",
   "execution_count": 21,
   "id": "ffbf06a5-7292-4109-87e8-b67d89dbad71",
   "metadata": {},
   "outputs": [
    {
     "name": "stdout",
     "output_type": "stream",
     "text": [
      "['Bob', 'Ana', 'Nia', 'Liam', 'John']\n",
      "['Bob', 'Ana', 'Nia', 'Liam']\n",
      "['Bob', 'Ana', 'Nia', 'Liam', 'John']\n"
     ]
    }
   ],
   "source": [
    "names = ['Bob', 'Ana', 'Nia', 'Liam', 'John']\n",
    "print(names)\n",
    "print(names[0:4])\n",
    "print(names)"
   ]
  },
  {
   "cell_type": "code",
   "execution_count": 22,
   "id": "1baa5d20-6f15-4d16-9ca9-244b6d40ee91",
   "metadata": {},
   "outputs": [],
   "source": [
    "numbers = [1,2,3,4,5]\n",
    "numbers.append(6)"
   ]
  },
  {
   "cell_type": "code",
   "execution_count": 23,
   "id": "38d5b171-79ed-4fdb-b97f-a9d65b04a73c",
   "metadata": {},
   "outputs": [
    {
     "name": "stdout",
     "output_type": "stream",
     "text": [
      "[1, 2, 3, 4, 5, 6]\n"
     ]
    }
   ],
   "source": [
    "print(numbers)"
   ]
  },
  {
   "cell_type": "code",
   "execution_count": 24,
   "id": "a220a1dc-69f8-4e99-868b-d53856792e22",
   "metadata": {},
   "outputs": [],
   "source": [
    "numbers.insert(0,-1)"
   ]
  },
  {
   "cell_type": "code",
   "execution_count": 25,
   "id": "26a6d27e-ee50-43c4-bd75-a1e0948af111",
   "metadata": {},
   "outputs": [
    {
     "name": "stdout",
     "output_type": "stream",
     "text": [
      "[-1, 1, 2, 3, 4, 5, 6]\n"
     ]
    }
   ],
   "source": [
    "print(numbers)"
   ]
  },
  {
   "cell_type": "code",
   "execution_count": 26,
   "id": "0bc4c702-9202-4572-aa92-86a1b9c9da9f",
   "metadata": {},
   "outputs": [
    {
     "name": "stdout",
     "output_type": "stream",
     "text": [
      "[]\n"
     ]
    }
   ],
   "source": [
    "numbers.clear() #clears all variables\n",
    "print(numbers)"
   ]
  },
  {
   "cell_type": "code",
   "execution_count": 27,
   "id": "962ddb46-9ee0-4958-b271-59d27668780e",
   "metadata": {},
   "outputs": [
    {
     "name": "stdout",
     "output_type": "stream",
     "text": [
      "False\n"
     ]
    }
   ],
   "source": [
    "print(1 in numbers) #is the element 1 in numbers list, True or False"
   ]
  },
  {
   "cell_type": "code",
   "execution_count": 28,
   "id": "62833333-dbcb-4f29-93c1-59c2bb09ca36",
   "metadata": {},
   "outputs": [
    {
     "name": "stdout",
     "output_type": "stream",
     "text": [
      "True\n"
     ]
    }
   ],
   "source": [
    "numbers = [1,2,3,4,5]\n",
    "print(1 in numbers)"
   ]
  },
  {
   "cell_type": "code",
   "execution_count": 29,
   "id": "f3c3c3c8-44d9-42ae-a0ff-3debab06b58d",
   "metadata": {},
   "outputs": [
    {
     "name": "stdout",
     "output_type": "stream",
     "text": [
      "5\n"
     ]
    }
   ],
   "source": [
    "print(len(numbers)) #returns the number of elements in a list"
   ]
  },
  {
   "cell_type": "markdown",
   "id": "2ef3b91d-7e2f-4a2d-b68d-7960c12556e7",
   "metadata": {},
   "source": [
    "For Loops: "
   ]
  },
  {
   "cell_type": "code",
   "execution_count": 30,
   "id": "7df5afb3-a362-451f-9517-71690605b8a6",
   "metadata": {},
   "outputs": [
    {
     "name": "stdout",
     "output_type": "stream",
     "text": [
      "1\n",
      "2\n",
      "3\n",
      "4\n",
      "5\n"
     ]
    }
   ],
   "source": [
    "for item in numbers: \n",
    "    print(item)"
   ]
  },
  {
   "cell_type": "code",
   "execution_count": 31,
   "id": "5b19771b-0b30-41c2-b6f3-933b5da31b10",
   "metadata": {},
   "outputs": [
    {
     "name": "stdout",
     "output_type": "stream",
     "text": [
      "1\n",
      "2\n",
      "3\n",
      "4\n",
      "5\n"
     ]
    }
   ],
   "source": [
    "i = 0\n",
    "while i<len(numbers):\n",
    "    print(numbers[i])\n",
    "    i= i+1"
   ]
  },
  {
   "cell_type": "markdown",
   "id": "716d9481-3293-47ca-a12d-c748de167864",
   "metadata": {},
   "source": [
    "The Range() Function  to generate a sequence of numbers"
   ]
  },
  {
   "cell_type": "code",
   "execution_count": 32,
   "id": "73c2e7bf-577b-4df0-a5d4-0ed3dc2ce609",
   "metadata": {},
   "outputs": [
    {
     "name": "stdout",
     "output_type": "stream",
     "text": [
      "range(0, 5)\n",
      "range(0, 5)\n"
     ]
    }
   ],
   "source": [
    "numbers = range(5) # range(0,5)\n",
    "print(numbers)\n",
    "#numbers = range(0,5) # range(0,5)\n",
    "print(numbers)"
   ]
  },
  {
   "cell_type": "code",
   "execution_count": 33,
   "id": "0af64606-990d-48cc-aa59-dd5f5bda10d7",
   "metadata": {},
   "outputs": [
    {
     "name": "stdout",
     "output_type": "stream",
     "text": [
      "0\n",
      "1\n",
      "2\n",
      "3\n",
      "4\n"
     ]
    }
   ],
   "source": [
    " #[0,1,2,3,4] counts all numbers of 5 items \n",
    "for item in numbers:\n",
    "    print(numbers[item])"
   ]
  },
  {
   "cell_type": "code",
   "execution_count": 34,
   "id": "49290f9e-6216-4a27-bd7a-baa5cac9d12f",
   "metadata": {},
   "outputs": [
    {
     "name": "stdout",
     "output_type": "stream",
     "text": [
      "1\n",
      "2\n",
      "3\n",
      "4\n"
     ]
    }
   ],
   "source": [
    "for item in range(1,5):\n",
    "    print(numbers[item])"
   ]
  },
  {
   "cell_type": "code",
   "execution_count": 35,
   "id": "bf1b83de-9773-4ba6-b63f-40980704216b",
   "metadata": {},
   "outputs": [
    {
     "name": "stdout",
     "output_type": "stream",
     "text": [
      "0\n",
      "1\n",
      "2\n",
      "3\n",
      "4\n"
     ]
    }
   ],
   "source": [
    "numeros = range(5)\n",
    "for items in numeros: #exclude every second number [5,7,9]\n",
    "    print(items)"
   ]
  },
  {
   "cell_type": "code",
   "execution_count": 36,
   "id": "531f0f10-315f-409e-94f8-ef9081a96e2c",
   "metadata": {},
   "outputs": [
    {
     "name": "stdout",
     "output_type": "stream",
     "text": [
      "0\n",
      "1\n",
      "2\n",
      "3\n",
      "4\n"
     ]
    }
   ],
   "source": [
    "for lista in range(5):\n",
    "    print(lista)"
   ]
  },
  {
   "cell_type": "code",
   "execution_count": 37,
   "id": "b237ac39-dc52-4bd2-a22a-52a2f394529e",
   "metadata": {},
   "outputs": [
    {
     "name": "stdout",
     "output_type": "stream",
     "text": [
      "3\n"
     ]
    }
   ],
   "source": [
    "x = 2.9\n",
    "print(round(x))\n",
    "import math  #full library search for python math module\n"
   ]
  },
  {
   "cell_type": "code",
   "execution_count": 38,
   "id": "bb6ad59e-23da-4eeb-9640-715b700486bf",
   "metadata": {},
   "outputs": [
    {
     "name": "stdout",
     "output_type": "stream",
     "text": [
      "2.9\n"
     ]
    }
   ],
   "source": [
    "print(abs(-2.9)) #returns positive number"
   ]
  },
  {
   "cell_type": "code",
   "execution_count": 39,
   "id": "46e21b32-3071-479d-9117-a43571abf79e",
   "metadata": {},
   "outputs": [
    {
     "data": {
      "text/plain": [
       "3"
      ]
     },
     "execution_count": 39,
     "metadata": {},
     "output_type": "execute_result"
    }
   ],
   "source": [
    "math.ceil(x)"
   ]
  },
  {
   "cell_type": "code",
   "execution_count": 40,
   "id": "a36a5a9d-9686-4716-920a-f1771c341c85",
   "metadata": {},
   "outputs": [
    {
     "data": {
      "text/plain": [
       "2"
      ]
     },
     "execution_count": 40,
     "metadata": {},
     "output_type": "execute_result"
    }
   ],
   "source": [
    "math.floor(x)"
   ]
  },
  {
   "cell_type": "code",
   "execution_count": 42,
   "id": "a6032f7f-a250-407f-a3e5-957862eea4b9",
   "metadata": {},
   "outputs": [
    {
     "name": "stdin",
     "output_type": "stream",
     "text": [
      "Weather:  23\n"
     ]
    },
    {
     "name": "stdout",
     "output_type": "stream",
     "text": [
      "It's a cold day \n",
      " Wear warm clothes\n"
     ]
    }
   ],
   "source": [
    "weather = float(input(\"Weather: \"))\n",
    "if weather>30:\n",
    "    print(\"it's hot\")\n",
    "    print(\"It's a hot day \\n Drink plenty of water\")\n",
    "elif weather>20:\n",
    "    print(\"It's a cold day \\n Wear warm clothes\")\n",
    "else:\n",
    "    print(\"It's a lovely day\")"
   ]
  },
  {
   "cell_type": "code",
   "execution_count": 44,
   "id": "195a6462-c563-4f56-920e-78e10e41dfea",
   "metadata": {},
   "outputs": [
    {
     "name": "stdout",
     "output_type": "stream",
     "text": [
      "Applicant is elegible for loan\n",
      "Applicant is elegible for loan\n"
     ]
    }
   ],
   "source": [
    "has_high_income = True\n",
    "has_good_credit = True\n",
    "\n",
    "if has_high_income and has_good_credit:\n",
    "    print( \"Applicant is elegible for loan\")\n",
    "\n",
    "    has_good_credit = False\n",
    "\n",
    "if has_high_income or has_good_credit:\n",
    "    print(\"Applicant is elegible for loan\")\n",
    "    \n",
    "has_criminal_record = True\n",
    "\n",
    "if has_good_credit and not has_criminal_record: #not made the boolean false\n",
    "    print(\"Elegible for loan\")\n",
    "    "
   ]
  },
  {
   "cell_type": "code",
   "execution_count": 45,
   "id": "054a5715-9607-4835-8faa-3d112a6e869f",
   "metadata": {},
   "outputs": [
    {
     "name": "stdin",
     "output_type": "stream",
     "text": [
      "Name:  Nia\n"
     ]
    },
    {
     "name": "stdout",
     "output_type": "stream",
     "text": [
      "Name looks good!\n"
     ]
    }
   ],
   "source": [
    "name = input(\"Name: \")\n",
    "if len(name) <3:\n",
    "    print(\"Name must be at least 3 characters\")\n",
    "elif len(name) >50:\n",
    "    print(\"Name can be a maximum of 50 characters\")\n",
    "else:\n",
    "    print(\"Name looks good!\")"
   ]
  },
  {
   "cell_type": "code",
   "execution_count": 46,
   "id": "6544cf9e-76ff-4207-a065-ab14358ef65c",
   "metadata": {},
   "outputs": [
    {
     "name": "stdout",
     "output_type": "stream",
     "text": [
      "1\n",
      "2\n",
      "3\n",
      "4\n",
      "5\n",
      "Done\n"
     ]
    }
   ],
   "source": [
    "i=1\n",
    "while i<=5:\n",
    "    print(i)\n",
    "    i = i +1\n",
    "print(\"Done\")"
   ]
  },
  {
   "cell_type": "code",
   "execution_count": null,
   "id": "12cd0eee-1eda-4e2c-8527-0c7be7d2dbeb",
   "metadata": {},
   "outputs": [],
   "source": [
    "secret_number = 9\n",
    "i=0\n",
    "while i<=3:\n",
    "    "
   ]
  }
 ],
 "metadata": {
  "kernelspec": {
   "display_name": "Python",
   "language": "python",
   "name": "conda-env-python-py"
  },
  "language_info": {
   "codemirror_mode": {
    "name": "ipython",
    "version": 3
   },
   "file_extension": ".py",
   "mimetype": "text/x-python",
   "name": "python",
   "nbconvert_exporter": "python",
   "pygments_lexer": "ipython3",
   "version": "3.6.13"
  }
 },
 "nbformat": 4,
 "nbformat_minor": 5
}
