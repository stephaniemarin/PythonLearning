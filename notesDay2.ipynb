{
 "cells": [
  {
   "cell_type": "code",
   "execution_count": 1,
   "id": "34c1c64c-bcdb-45ae-8122-a141430e73d0",
   "metadata": {},
   "outputs": [
    {
     "name": "stdout",
     "output_type": "stream",
     "text": [
      "DATA SCIENCE\n"
     ]
    }
   ],
   "source": [
    "A = 'Data Science'\n",
    "B= A.upper()\n",
    "print(B)"
   ]
  },
  {
   "cell_type": "code",
   "execution_count": 2,
   "id": "87772fc2-07f2-476f-989d-f386ac5c0cee",
   "metadata": {},
   "outputs": [
    {
     "name": "stdout",
     "output_type": "stream",
     "text": [
      "Machine Science\n"
     ]
    }
   ],
   "source": [
    "C = A.replace('Data', 'Machine')\n",
    "print(C)"
   ]
  },
  {
   "cell_type": "code",
   "execution_count": 3,
   "id": "b07a4e49-2019-484e-b7de-b0228c97228c",
   "metadata": {},
   "outputs": [
    {
     "data": {
      "text/plain": [
       "0"
      ]
     },
     "execution_count": 3,
     "metadata": {},
     "output_type": "execute_result"
    }
   ],
   "source": [
    "name = 'Michael Jackson'\n",
    "name.find('Micha')\n"
   ]
  },
  {
   "cell_type": "code",
   "execution_count": 4,
   "id": "2cd40398-1349-4d4a-af1c-54717a695e0e",
   "metadata": {},
   "outputs": [
    {
     "data": {
      "text/plain": [
       "13"
      ]
     },
     "execution_count": 4,
     "metadata": {},
     "output_type": "execute_result"
    }
   ],
   "source": [
    "name.find('on')"
   ]
  },
  {
   "cell_type": "code",
   "execution_count": 8,
   "id": "561fa2f1-b008-4e46-b262-fb47e3f09c3d",
   "metadata": {},
   "outputs": [
    {
     "data": {
      "text/plain": [
       "11"
      ]
     },
     "execution_count": 8,
     "metadata": {},
     "output_type": "execute_result"
    }
   ],
   "source": [
    "name.index('ks')"
   ]
  },
  {
   "cell_type": "code",
   "execution_count": 9,
   "id": "7eab15a0-de6e-4832-8c9b-7e6df22f8cf5",
   "metadata": {},
   "outputs": [
    {
     "data": {
      "text/plain": [
       "'0246'"
      ]
     },
     "execution_count": 9,
     "metadata": {},
     "output_type": "execute_result"
    }
   ],
   "source": [
    "Numbers=\"0123456\"\n",
    "Numbers[::2]"
   ]
  },
  {
   "cell_type": "code",
   "execution_count": 10,
   "id": "6a53b6be-437f-45a7-911a-c02ed33b8b37",
   "metadata": {},
   "outputs": [
    {
     "data": {
      "text/plain": [
       "1"
      ]
     },
     "execution_count": 10,
     "metadata": {},
     "output_type": "execute_result"
    }
   ],
   "source": [
    "\"0123456\".find('1')"
   ]
  },
  {
   "cell_type": "code",
   "execution_count": 11,
   "id": "334fbbee-a1c1-4bde-a5bb-acd4331183b8",
   "metadata": {},
   "outputs": [],
   "source": [
    "name ='Lizz'"
   ]
  },
  {
   "cell_type": "code",
   "execution_count": 12,
   "id": "501c75b2-1616-48b4-8975-76fa9a6b19a1",
   "metadata": {},
   "outputs": [
    {
     "name": "stdout",
     "output_type": "stream",
     "text": [
      "Li\n"
     ]
    }
   ],
   "source": [
    "print(name[0:2])"
   ]
  },
  {
   "cell_type": "markdown",
   "id": "19dbe086-380e-4434-accf-026b2911de21",
   "metadata": {},
   "source": [
    "<p> The previous print is a result of value in first index 0 and\n",
    "the value of index previous to 2 </p>"
   ]
  },
  {
   "cell_type": "code",
   "execution_count": 13,
   "id": "eace9caf-1c07-4c65-bae9-d5ac0dcf6fc2",
   "metadata": {},
   "outputs": [
    {
     "name": "stdout",
     "output_type": "stream",
     "text": [
      "0246\n"
     ]
    }
   ],
   "source": [
    "var = '01234567'\n",
    "print(var[::2])  #print all even numbers"
   ]
  },
  {
   "cell_type": "code",
   "execution_count": 14,
   "id": "82d3d83b-e8b3-493e-9803-fc5c88fcb2d0",
   "metadata": {},
   "outputs": [
    {
     "data": {
      "text/plain": [
       "'12'"
      ]
     },
     "execution_count": 14,
     "metadata": {},
     "output_type": "execute_result"
    }
   ],
   "source": [
    "'1'+'2'\n"
   ]
  },
  {
   "cell_type": "markdown",
   "id": "41349b79-e1f3-4b0f-8b03-75a6ac9a60ab",
   "metadata": {},
   "source": [
    "<h1> - Learning Objectives - </h1>\n",
    "<ul>    <li> Lists and Tuples </li>\n",
    "        <li> Sets </li>\n",
    "        <li> Dictionaries </li>\n",
    "\n",
    "</ul>"
   ]
  },
  {
   "cell_type": "markdown",
   "id": "5999aa7c-cf8c-4f74-b685-5b5611e10c8c",
   "metadata": {},
   "source": [
    "<h3> <li>Lists and Tuples</li> <h3"
   ]
  },
  {
   "cell_type": "code",
   "execution_count": 17,
   "id": "177cde03-8f41-4caa-808a-fb197d7213ce",
   "metadata": {},
   "outputs": [
    {
     "name": "stdout",
     "output_type": "stream",
     "text": [
      "10\n"
     ]
    }
   ],
   "source": [
    "#Tuples are an ordered sequence.\n",
    "Tuples = (1,2,3) # are only in parenthesis and seperated by comma ONLY\n",
    "tupe1 = (\"disco\",10,1.2)\n",
    "print(tupe1[1])\n",
    "tuple2 = tupe1 +(\"hard rock\", 10)#concatenate or add by adding +"
   ]
  },
  {
   "cell_type": "code",
   "execution_count": 19,
   "id": "efe6cde8-4b3b-4c22-8815-51cc0151de6b",
   "metadata": {},
   "outputs": [
    {
     "name": "stdout",
     "output_type": "stream",
     "text": [
      "('disco', 10, 1.2, 'hard rock', 10)\n"
     ]
    }
   ],
   "source": [
    "print(tuple2) "
   ]
  },
  {
   "cell_type": "code",
   "execution_count": 21,
   "id": "f34f6cfb-6133-40a1-8f77-19125f221c6e",
   "metadata": {},
   "outputs": [
    {
     "name": "stdout",
     "output_type": "stream",
     "text": [
      "('disco', 10, 1.2)\n"
     ]
    }
   ],
   "source": [
    "print(tuple2[0:3])  #gives the first 3 elements"
   ]
  },
  {
   "cell_type": "code",
   "execution_count": 22,
   "id": "b1cc4f82-9080-42bb-9bc2-0be7c964a06a",
   "metadata": {},
   "outputs": [
    {
     "name": "stdout",
     "output_type": "stream",
     "text": [
      "('hard rock', 10)\n"
     ]
    }
   ],
   "source": [
    "print(tuple2[3:5]) #gives the last 2 elements"
   ]
  },
  {
   "cell_type": "code",
   "execution_count": 23,
   "id": "8d8dab83-7e34-413a-a1c0-350dc80ddde3",
   "metadata": {},
   "outputs": [
    {
     "data": {
      "text/plain": [
       "5"
      ]
     },
     "execution_count": 23,
     "metadata": {},
     "output_type": "execute_result"
    }
   ],
   "source": [
    "len(tuple2)"
   ]
  },
  {
   "cell_type": "markdown",
   "id": "32235561-5b6a-4d41-9893-b3b5d96268ff",
   "metadata": {},
   "source": [
    "<p>Tuples are not changable or immutable.<p>"
   ]
  },
  {
   "cell_type": "code",
   "execution_count": 29,
   "id": "3a21b2b2-eb0d-4912-bc10-39eb827a41f3",
   "metadata": {},
   "outputs": [
    {
     "name": "stdout",
     "output_type": "stream",
     "text": [
      "[1, 2, 3, 4, 4, 5, 7, 9]\n"
     ]
    }
   ],
   "source": [
    "tuple3 = (3,5,7,2,4,1,4,9)\n",
    "rupleSorted = sorted(tuple3)\n",
    "print(rupleSorted)"
   ]
  },
  {
   "cell_type": "code",
   "execution_count": null,
   "id": "a061b321-b1f7-48e3-aae0-99325901fdd3",
   "metadata": {},
   "outputs": [],
   "source": []
  }
 ],
 "metadata": {
  "kernelspec": {
   "display_name": "Python",
   "language": "python",
   "name": "conda-env-python-py"
  },
  "language_info": {
   "codemirror_mode": {
    "name": "ipython",
    "version": 3
   },
   "file_extension": ".py",
   "mimetype": "text/x-python",
   "name": "python",
   "nbconvert_exporter": "python",
   "pygments_lexer": "ipython3",
   "version": "3.6.13"
  }
 },
 "nbformat": 4,
 "nbformat_minor": 5
}
