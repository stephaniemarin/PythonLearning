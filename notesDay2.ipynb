{
 "cells": [
  {
   "cell_type": "code",
   "execution_count": 1,
   "id": "34c1c64c-bcdb-45ae-8122-a141430e73d0",
   "metadata": {},
   "outputs": [
    {
     "name": "stdout",
     "output_type": "stream",
     "text": [
      "DATA SCIENCE\n"
     ]
    }
   ],
   "source": [
    "A = 'Data Science'\n",
    "B= A.upper()\n",
    "print(B)"
   ]
  },
  {
   "cell_type": "code",
   "execution_count": 2,
   "id": "87772fc2-07f2-476f-989d-f386ac5c0cee",
   "metadata": {},
   "outputs": [
    {
     "name": "stdout",
     "output_type": "stream",
     "text": [
      "Machine Science\n"
     ]
    }
   ],
   "source": [
    "C = A.replace('Data', 'Machine')\n",
    "print(C)"
   ]
  },
  {
   "cell_type": "code",
   "execution_count": 3,
   "id": "b07a4e49-2019-484e-b7de-b0228c97228c",
   "metadata": {},
   "outputs": [
    {
     "data": {
      "text/plain": [
       "0"
      ]
     },
     "execution_count": 3,
     "metadata": {},
     "output_type": "execute_result"
    }
   ],
   "source": [
    "name = 'Michael Jackson'\n",
    "name.find('Micha')\n"
   ]
  },
  {
   "cell_type": "code",
   "execution_count": 4,
   "id": "2cd40398-1349-4d4a-af1c-54717a695e0e",
   "metadata": {},
   "outputs": [
    {
     "data": {
      "text/plain": [
       "13"
      ]
     },
     "execution_count": 4,
     "metadata": {},
     "output_type": "execute_result"
    }
   ],
   "source": [
    "name.find('on')"
   ]
  },
  {
   "cell_type": "code",
   "execution_count": 5,
   "id": "561fa2f1-b008-4e46-b262-fb47e3f09c3d",
   "metadata": {},
   "outputs": [
    {
     "data": {
      "text/plain": [
       "11"
      ]
     },
     "execution_count": 5,
     "metadata": {},
     "output_type": "execute_result"
    }
   ],
   "source": [
    "name.index('ks')"
   ]
  },
  {
   "cell_type": "code",
   "execution_count": 6,
   "id": "7eab15a0-de6e-4832-8c9b-7e6df22f8cf5",
   "metadata": {},
   "outputs": [
    {
     "data": {
      "text/plain": [
       "'0246'"
      ]
     },
     "execution_count": 6,
     "metadata": {},
     "output_type": "execute_result"
    }
   ],
   "source": [
    "Numbers=\"0123456\"\n",
    "Numbers[::2]"
   ]
  },
  {
   "cell_type": "code",
   "execution_count": 7,
   "id": "6a53b6be-437f-45a7-911a-c02ed33b8b37",
   "metadata": {},
   "outputs": [
    {
     "data": {
      "text/plain": [
       "1"
      ]
     },
     "execution_count": 7,
     "metadata": {},
     "output_type": "execute_result"
    }
   ],
   "source": [
    "\"0123456\".find('1')"
   ]
  },
  {
   "cell_type": "code",
   "execution_count": 8,
   "id": "334fbbee-a1c1-4bde-a5bb-acd4331183b8",
   "metadata": {},
   "outputs": [],
   "source": [
    "name ='Lizz'"
   ]
  },
  {
   "cell_type": "code",
   "execution_count": 9,
   "id": "501c75b2-1616-48b4-8975-76fa9a6b19a1",
   "metadata": {},
   "outputs": [
    {
     "name": "stdout",
     "output_type": "stream",
     "text": [
      "Li\n"
     ]
    }
   ],
   "source": [
    "print(name[0:2])"
   ]
  },
  {
   "cell_type": "markdown",
   "id": "19dbe086-380e-4434-accf-026b2911de21",
   "metadata": {},
   "source": [
    "<p> The previous print is a result of value in first index 0 and\n",
    "the value of index previous to 2 </p>"
   ]
  },
  {
   "cell_type": "code",
   "execution_count": 10,
   "id": "eace9caf-1c07-4c65-bae9-d5ac0dcf6fc2",
   "metadata": {},
   "outputs": [
    {
     "name": "stdout",
     "output_type": "stream",
     "text": [
      "0246\n"
     ]
    }
   ],
   "source": [
    "var = '01234567'\n",
    "print(var[::2])  #print all even numbers"
   ]
  },
  {
   "cell_type": "code",
   "execution_count": 11,
   "id": "82d3d83b-e8b3-493e-9803-fc5c88fcb2d0",
   "metadata": {},
   "outputs": [
    {
     "data": {
      "text/plain": [
       "'12'"
      ]
     },
     "execution_count": 11,
     "metadata": {},
     "output_type": "execute_result"
    }
   ],
   "source": [
    "'1'+'2'\n"
   ]
  },
  {
   "cell_type": "markdown",
   "id": "41349b79-e1f3-4b0f-8b03-75a6ac9a60ab",
   "metadata": {},
   "source": [
    "<h1> - Learning Objectives - </h1>\n",
    "<ul>    <li> Lists and Tuples </li>\n",
    "        <li> Sets </li>\n",
    "        <li> Dictionaries </li>\n",
    "\n",
    "</ul>"
   ]
  },
  {
   "cell_type": "markdown",
   "id": "5999aa7c-cf8c-4f74-b685-5b5611e10c8c",
   "metadata": {},
   "source": [
    "<h3> <li>Lists and Tuples</li> <h3"
   ]
  },
  {
   "cell_type": "code",
   "execution_count": 12,
   "id": "177cde03-8f41-4caa-808a-fb197d7213ce",
   "metadata": {},
   "outputs": [
    {
     "name": "stdout",
     "output_type": "stream",
     "text": [
      "10\n"
     ]
    }
   ],
   "source": [
    "#Tuples are an ordered sequence.\n",
    "Tuples = (1,2,3) # are only in parenthesis and seperated by comma ONLY\n",
    "tupe1 = (\"disco\",10,1.2)\n",
    "print(tupe1[1])\n",
    "tuple2 = tupe1 +(\"hard rock\", 10)#concatenate or add by adding +"
   ]
  },
  {
   "cell_type": "code",
   "execution_count": 13,
   "id": "efe6cde8-4b3b-4c22-8815-51cc0151de6b",
   "metadata": {},
   "outputs": [
    {
     "name": "stdout",
     "output_type": "stream",
     "text": [
      "('disco', 10, 1.2, 'hard rock', 10)\n"
     ]
    }
   ],
   "source": [
    "print(tuple2) "
   ]
  },
  {
   "cell_type": "code",
   "execution_count": 14,
   "id": "f34f6cfb-6133-40a1-8f77-19125f221c6e",
   "metadata": {},
   "outputs": [
    {
     "name": "stdout",
     "output_type": "stream",
     "text": [
      "('disco', 10, 1.2)\n"
     ]
    }
   ],
   "source": [
    "print(tuple2[0:3])  #gives the first 3 elements"
   ]
  },
  {
   "cell_type": "code",
   "execution_count": 15,
   "id": "b1cc4f82-9080-42bb-9bc2-0be7c964a06a",
   "metadata": {},
   "outputs": [
    {
     "name": "stdout",
     "output_type": "stream",
     "text": [
      "('hard rock', 10)\n"
     ]
    }
   ],
   "source": [
    "print(tuple2[3:5]) #gives the last 2 elements"
   ]
  },
  {
   "cell_type": "code",
   "execution_count": 16,
   "id": "8d8dab83-7e34-413a-a1c0-350dc80ddde3",
   "metadata": {},
   "outputs": [
    {
     "data": {
      "text/plain": [
       "5"
      ]
     },
     "execution_count": 16,
     "metadata": {},
     "output_type": "execute_result"
    }
   ],
   "source": [
    "len(tuple2)"
   ]
  },
  {
   "cell_type": "markdown",
   "id": "32235561-5b6a-4d41-9893-b3b5d96268ff",
   "metadata": {},
   "source": [
    "<p>Tuples are not changable or immutable.<p>"
   ]
  },
  {
   "cell_type": "code",
   "execution_count": 17,
   "id": "3a21b2b2-eb0d-4912-bc10-39eb827a41f3",
   "metadata": {},
   "outputs": [
    {
     "name": "stdout",
     "output_type": "stream",
     "text": [
      "[1, 2, 3, 4, 4, 5, 7, 9]\n"
     ]
    }
   ],
   "source": [
    "tuple3 = (3,5,7,2,4,1,4,9)\n",
    "tupleSorted = sorted(tuple3)\n",
    "print(tupleSorted)"
   ]
  },
  {
   "cell_type": "markdown",
   "id": "9e570653-feeb-46a3-a6bf-fbf43b8066ba",
   "metadata": {},
   "source": [
    "<h2> Tuple Nesting </h2>\n"
   ]
  },
  {
   "cell_type": "code",
   "execution_count": 19,
   "id": "6cb4e501-3627-4e13-bae7-b0efff4ec8be",
   "metadata": {},
   "outputs": [],
   "source": [
    "NT = (1,2,('POP', 'rock'), (3,4),('disco',(1,2)))"
   ]
  },
  {
   "cell_type": "code",
   "execution_count": 20,
   "id": "c973a670-154c-4ca0-9875-031c10a57ecb",
   "metadata": {},
   "outputs": [
    {
     "name": "stdout",
     "output_type": "stream",
     "text": [
      "('POP', 'rock')\n"
     ]
    }
   ],
   "source": [
    "print(NT[2])\n"
   ]
  },
  {
   "cell_type": "code",
   "execution_count": 21,
   "id": "68f113bb-aac1-449d-9e7c-f7cc9113b07c",
   "metadata": {},
   "outputs": [
    {
     "name": "stdout",
     "output_type": "stream",
     "text": [
      "2\n"
     ]
    }
   ],
   "source": [
    "print(NT[1])"
   ]
  },
  {
   "cell_type": "code",
   "execution_count": 22,
   "id": "e128972c-2e9c-4039-b65a-1f8005a56fb8",
   "metadata": {},
   "outputs": [
    {
     "name": "stdout",
     "output_type": "stream",
     "text": [
      "rock\n"
     ]
    }
   ],
   "source": [
    "print(NT[2][1])"
   ]
  },
  {
   "cell_type": "code",
   "execution_count": 24,
   "id": "3e5546b3-6a7d-4409-88f1-8c4ff48de260",
   "metadata": {},
   "outputs": [
    {
     "name": "stdout",
     "output_type": "stream",
     "text": [
      "2\n"
     ]
    }
   ],
   "source": [
    "print(NT[4][1][1])"
   ]
  },
  {
   "cell_type": "markdown",
   "id": "54ea8dd4-62be-4946-8bf8-4b54d6f428e7",
   "metadata": {},
   "source": [
    "<H2> <ul> Lists </ul> </h2>"
   ]
  },
  {
   "cell_type": "markdown",
   "id": "7ca4e4ef-7ef6-462d-b7a6-5c8d97a7eaa0",
   "metadata": {},
   "source": [
    "Lists are saved in []"
   ]
  },
  {
   "cell_type": "code",
   "execution_count": 25,
   "id": "f02d43e2-a283-4833-9388-196e6ca3855d",
   "metadata": {},
   "outputs": [],
   "source": [
    "L = [\"Michael Jackson\", 2, 3.2, \"mJ\",1]"
   ]
  },
  {
   "cell_type": "markdown",
   "id": "0b24ef66-6d1b-43b4-a733-24f4494d0bd7",
   "metadata": {},
   "source": [
    "To print the last two elements in this list use the command L[3:5], with 5 being a number larger than the last index."
   ]
  },
  {
   "cell_type": "code",
   "execution_count": 26,
   "id": "1d41b62e-f364-4059-90ce-52c32c64c93f",
   "metadata": {},
   "outputs": [
    {
     "name": "stdout",
     "output_type": "stream",
     "text": [
      "['mJ', 1]\n"
     ]
    }
   ],
   "source": [
    "print(L[3:5])"
   ]
  },
  {
   "cell_type": "markdown",
   "id": "568b24b8-3de7-4e39-8084-58d551d02b4d",
   "metadata": {},
   "source": [
    "concatenate a more elements by using the .extend() function"
   ]
  },
  {
   "cell_type": "code",
   "execution_count": 27,
   "id": "3ac97f59-1d69-46b8-8f5d-6078ff97fd5d",
   "metadata": {},
   "outputs": [
    {
     "name": "stdout",
     "output_type": "stream",
     "text": [
      "['Michael Jackson', 2, 3.2, 'mJ', 1, 'pop', 10]\n"
     ]
    }
   ],
   "source": [
    "L.extend(['pop',10])\n",
    "print(L)"
   ]
  },
  {
   "cell_type": "code",
   "execution_count": 28,
   "id": "b8ddceca-869e-4d5c-a794-f15edf16f55d",
   "metadata": {},
   "outputs": [],
   "source": [
    "L[0]=\"Laura\""
   ]
  },
  {
   "cell_type": "code",
   "execution_count": 29,
   "id": "29127799-b69b-440e-8444-92e2d1e57d23",
   "metadata": {},
   "outputs": [
    {
     "name": "stdout",
     "output_type": "stream",
     "text": [
      "['Laura', 2, 3.2, 'mJ', 1, 'pop', 10]\n",
      "['Laura', 2, 3.2, 'mJ', 1, 'pop', 10, ['a']]\n"
     ]
    }
   ],
   "source": [
    "print(L)\n",
    "L.append([\"a\"])\n",
    "print(L)"
   ]
  },
  {
   "cell_type": "code",
   "execution_count": 30,
   "id": "6af673f5-256a-4f1d-98b5-2b84aa1ee039",
   "metadata": {},
   "outputs": [
    {
     "name": "stdout",
     "output_type": "stream",
     "text": [
      "['Laura', 2, 3.2, 'mJ', 1, 'pop', 10, ['a']]\n",
      "['Laura', 2, 3.2, 'mJ', 1, 'pop', 10, ['a'], 'a']\n"
     ]
    }
   ],
   "source": [
    "print(L)\n",
    "L.append(\"a\")\n",
    "print(L)"
   ]
  },
  {
   "cell_type": "code",
   "execution_count": 31,
   "id": "db496e27-8f2d-49e8-b071-f19072cafd68",
   "metadata": {},
   "outputs": [
    {
     "name": "stdout",
     "output_type": "stream",
     "text": [
      "['Laura', 2, 3.2, 'mJ', 1, 'pop', 10, 'a']\n"
     ]
    }
   ],
   "source": [
    "del(L[7])\n",
    "print(L)\n"
   ]
  },
  {
   "cell_type": "code",
   "execution_count": 32,
   "id": "248fffa3-9ef1-40dc-b11d-62b5c309d2e2",
   "metadata": {},
   "outputs": [
    {
     "data": {
      "text/plain": [
       "<function str.split>"
      ]
     },
     "execution_count": 32,
     "metadata": {},
     "output_type": "execute_result"
    }
   ],
   "source": [
    "L[3].split"
   ]
  },
  {
   "cell_type": "code",
   "execution_count": 33,
   "id": "12574c1e-4324-4a56-ae3f-4070c9d94bc1",
   "metadata": {},
   "outputs": [
    {
     "name": "stdout",
     "output_type": "stream",
     "text": [
      "['Laura', 2, 3.2, 'mJ', 1, 'pop', 10, 'a']\n"
     ]
    }
   ],
   "source": [
    "\n",
    "print(L)"
   ]
  },
  {
   "cell_type": "code",
   "execution_count": 34,
   "id": "bd7f9585-c465-4108-a128-9479a5d70fb8",
   "metadata": {},
   "outputs": [
    {
     "data": {
      "text/plain": [
       "['Laura']"
      ]
     },
     "execution_count": 34,
     "metadata": {},
     "output_type": "execute_result"
    }
   ],
   "source": [
    "\"Laura\".split()"
   ]
  },
  {
   "cell_type": "code",
   "execution_count": 35,
   "id": "33e83bcf-407f-42bf-a997-bf13d25db4e6",
   "metadata": {},
   "outputs": [
    {
     "data": {
      "text/plain": [
       "['A', 'B', 'C', 'D']"
      ]
     },
     "execution_count": 35,
     "metadata": {},
     "output_type": "execute_result"
    }
   ],
   "source": [
    "\"A,B,C,D\".split(\",\")"
   ]
  },
  {
   "cell_type": "code",
   "execution_count": 37,
   "id": "2455c212-d7d7-4324-9443-33268f6ab62b",
   "metadata": {},
   "outputs": [
    {
     "name": "stdout",
     "output_type": "stream",
     "text": [
      "['Michael Jackson', 2, 3.2, 'mJ', 1, 'pop', 10, 'a']\n"
     ]
    }
   ],
   "source": [
    "L[0]=\"Michael Jackson\"\n",
    "print(L)"
   ]
  },
  {
   "cell_type": "code",
   "execution_count": 38,
   "id": "43bd07df-bead-4926-be33-9527f8f84f8c",
   "metadata": {},
   "outputs": [
    {
     "data": {
      "text/plain": [
       "['Michael', 'Jackson']"
      ]
     },
     "execution_count": 38,
     "metadata": {},
     "output_type": "execute_result"
    }
   ],
   "source": [
    "L[0].split()"
   ]
  },
  {
   "cell_type": "code",
   "execution_count": 39,
   "id": "2b676bee-7bb8-4f67-a8ec-6a687a141f52",
   "metadata": {},
   "outputs": [
    {
     "name": "stdout",
     "output_type": "stream",
     "text": [
      "['Michael Jackson', 2, 3.2, 'mJ', 1, 'pop', 10, 'a']\n"
     ]
    }
   ],
   "source": [
    "print(L)"
   ]
  },
  {
   "cell_type": "markdown",
   "id": "154cb355-20a6-4479-850b-c57480f135c0",
   "metadata": {},
   "source": [
    "clone List L to CL by adding CL=L[:]"
   ]
  },
  {
   "cell_type": "code",
   "execution_count": 40,
   "id": "9bfaa9e1-a638-4ed5-9898-eaaf2044c94d",
   "metadata": {},
   "outputs": [],
   "source": [
    "CL=L[:]"
   ]
  },
  {
   "cell_type": "code",
   "execution_count": 41,
   "id": "728399cb-978c-48d3-8ee2-93f9315d0afe",
   "metadata": {},
   "outputs": [
    {
     "name": "stdout",
     "output_type": "stream",
     "text": [
      "['Michael Jackson', 2, 3.2, 'mJ', 1, 'pop', 10, 'a']\n"
     ]
    }
   ],
   "source": [
    "print(CL)"
   ]
  },
  {
   "cell_type": "code",
   "execution_count": 42,
   "id": "294cd59f-198d-486f-a7e4-fd20949f0e80",
   "metadata": {},
   "outputs": [
    {
     "name": "stdout",
     "output_type": "stream",
     "text": [
      "Help on list object:\n",
      "\n",
      "class list(object)\n",
      " |  list() -> new empty list\n",
      " |  list(iterable) -> new list initialized from iterable's items\n",
      " |  \n",
      " |  Methods defined here:\n",
      " |  \n",
      " |  __add__(self, value, /)\n",
      " |      Return self+value.\n",
      " |  \n",
      " |  __contains__(self, key, /)\n",
      " |      Return key in self.\n",
      " |  \n",
      " |  __delitem__(self, key, /)\n",
      " |      Delete self[key].\n",
      " |  \n",
      " |  __eq__(self, value, /)\n",
      " |      Return self==value.\n",
      " |  \n",
      " |  __ge__(self, value, /)\n",
      " |      Return self>=value.\n",
      " |  \n",
      " |  __getattribute__(self, name, /)\n",
      " |      Return getattr(self, name).\n",
      " |  \n",
      " |  __getitem__(...)\n",
      " |      x.__getitem__(y) <==> x[y]\n",
      " |  \n",
      " |  __gt__(self, value, /)\n",
      " |      Return self>value.\n",
      " |  \n",
      " |  __iadd__(self, value, /)\n",
      " |      Implement self+=value.\n",
      " |  \n",
      " |  __imul__(self, value, /)\n",
      " |      Implement self*=value.\n",
      " |  \n",
      " |  __init__(self, /, *args, **kwargs)\n",
      " |      Initialize self.  See help(type(self)) for accurate signature.\n",
      " |  \n",
      " |  __iter__(self, /)\n",
      " |      Implement iter(self).\n",
      " |  \n",
      " |  __le__(self, value, /)\n",
      " |      Return self<=value.\n",
      " |  \n",
      " |  __len__(self, /)\n",
      " |      Return len(self).\n",
      " |  \n",
      " |  __lt__(self, value, /)\n",
      " |      Return self<value.\n",
      " |  \n",
      " |  __mul__(self, value, /)\n",
      " |      Return self*value.\n",
      " |  \n",
      " |  __ne__(self, value, /)\n",
      " |      Return self!=value.\n",
      " |  \n",
      " |  __new__(*args, **kwargs) from builtins.type\n",
      " |      Create and return a new object.  See help(type) for accurate signature.\n",
      " |  \n",
      " |  __repr__(self, /)\n",
      " |      Return repr(self).\n",
      " |  \n",
      " |  __reversed__(...)\n",
      " |      L.__reversed__() -- return a reverse iterator over the list\n",
      " |  \n",
      " |  __rmul__(self, value, /)\n",
      " |      Return value*self.\n",
      " |  \n",
      " |  __setitem__(self, key, value, /)\n",
      " |      Set self[key] to value.\n",
      " |  \n",
      " |  __sizeof__(...)\n",
      " |      L.__sizeof__() -- size of L in memory, in bytes\n",
      " |  \n",
      " |  append(...)\n",
      " |      L.append(object) -> None -- append object to end\n",
      " |  \n",
      " |  clear(...)\n",
      " |      L.clear() -> None -- remove all items from L\n",
      " |  \n",
      " |  copy(...)\n",
      " |      L.copy() -> list -- a shallow copy of L\n",
      " |  \n",
      " |  count(...)\n",
      " |      L.count(value) -> integer -- return number of occurrences of value\n",
      " |  \n",
      " |  extend(...)\n",
      " |      L.extend(iterable) -> None -- extend list by appending elements from the iterable\n",
      " |  \n",
      " |  index(...)\n",
      " |      L.index(value, [start, [stop]]) -> integer -- return first index of value.\n",
      " |      Raises ValueError if the value is not present.\n",
      " |  \n",
      " |  insert(...)\n",
      " |      L.insert(index, object) -- insert object before index\n",
      " |  \n",
      " |  pop(...)\n",
      " |      L.pop([index]) -> item -- remove and return item at index (default last).\n",
      " |      Raises IndexError if list is empty or index is out of range.\n",
      " |  \n",
      " |  remove(...)\n",
      " |      L.remove(value) -> None -- remove first occurrence of value.\n",
      " |      Raises ValueError if the value is not present.\n",
      " |  \n",
      " |  reverse(...)\n",
      " |      L.reverse() -- reverse *IN PLACE*\n",
      " |  \n",
      " |  sort(...)\n",
      " |      L.sort(key=None, reverse=False) -> None -- stable sort *IN PLACE*\n",
      " |  \n",
      " |  ----------------------------------------------------------------------\n",
      " |  Data and other attributes defined here:\n",
      " |  \n",
      " |  __hash__ = None\n",
      "\n"
     ]
    }
   ],
   "source": [
    "help(L)"
   ]
  },
  {
   "cell_type": "code",
   "execution_count": null,
   "id": "fd4d33ac-3582-45ce-b90d-69f019f941f8",
   "metadata": {},
   "outputs": [],
   "source": []
  }
 ],
 "metadata": {
  "kernelspec": {
   "display_name": "Python",
   "language": "python",
   "name": "conda-env-python-py"
  },
  "language_info": {
   "codemirror_mode": {
    "name": "ipython",
    "version": 3
   },
   "file_extension": ".py",
   "mimetype": "text/x-python",
   "name": "python",
   "nbconvert_exporter": "python",
   "pygments_lexer": "ipython3",
   "version": "3.6.13"
  }
 },
 "nbformat": 4,
 "nbformat_minor": 5
}
